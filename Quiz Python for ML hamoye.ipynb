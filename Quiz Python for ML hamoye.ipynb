{
 "cells": [
  {
   "cell_type": "code",
   "execution_count": 651,
   "id": "5565b68f",
   "metadata": {},
   "outputs": [
    {
     "data": {
      "text/plain": [
       "Item     WineWineWineWineWineWineWineWineWineWineWineWi...\n",
       "Y2015                                              4251.81\n",
       "Y2018                                              4039.32\n",
       "dtype: object"
      ]
     },
     "execution_count": 651,
     "metadata": {},
     "output_type": "execute_result"
    }
   ],
   "source": [
    "\"\"\"What is the total sum of Wine produced in 2015 and 2018 respectively?\"\"\"\n",
    "w1 = food_data[['Item','Y2015','Y2018']]\n",
    "w2 = w1[w1['Item'] == 'Wine'].sum()\n",
    "w2\n",
    "   #            OR\n",
    "#lst7 = dict(food_data.groupby('Item').sum()) #groupby item column & convert to dictionary\n",
    "#df = pd.DataFrame(lst7) # convert to a dataframe dictionary\n",
    "#print('total sum of wine produced in 2015 - ', df.at['Wine','Y2015'])\n",
    "#print('total sum of wine produced in 2018 - ', df.at['Wine','Y2018'])\n",
    "\n",
    "#4251.81 and 4039.32"
   ]
  },
  {
   "cell_type": "code",
   "execution_count": 652,
   "id": "f39c3378",
   "metadata": {},
   "outputs": [
    {
     "name": "stdout",
     "output_type": "stream",
     "text": [
      "total number of unique countries in the dataset -  49\n"
     ]
    }
   ],
   "source": [
    "\"\"\"What is the total number of unique countries in the dataset?\"\"\"\n",
    "lst6 = food_data.groupby('Area')['Area'].sum()\n",
    "lst6 #shows the unique countries in area column\n",
    "print('total number of unique countries in the dataset - ', len(lst6)) #counts the countries"
   ]
  },
  {
   "cell_type": "code",
   "execution_count": 653,
   "id": "169b7698",
   "metadata": {},
   "outputs": [
    {
     "name": "stdout",
     "output_type": "stream",
     "text": [
      "Y2014    58749.83\n",
      "Y2015    34910.99\n",
      "Y2016    33140.12\n",
      "Y2017    54316.91\n",
      "Y2018    20577.91\n",
      "Name: Stock Variation, dtype: float64\n",
      "Highest stock variation:-  58749.83\n"
     ]
    }
   ],
   "source": [
    "\"\"\"Perform a groupby operation on ‘Element’.  What year has the highest sum of Stock Variation?\"\"\"\n",
    "f1 = food_data.groupby('Element').sum()\n",
    "f2 = f1[ ['Y2014','Y2015', 'Y2016', 'Y2017', 'Y2018'] ]\n",
    "f3 = f2.loc['Stock Variation']\n",
    "print(f3)                               #### 2014\n",
    "f4 = f3.max()\n",
    "print('Highest stock variation:- ',f4)\n",
    "\n",
    "#    OR\n",
    "#lst5 = dict(food_data.groupby('Element').sum()) # groupby element and convert to a dictionary\n",
    "#df = pd.DataFrame(lst5) #convert to Dataframe dictionary\n",
    "#answer5 = sorted(df.loc['Stock Variation'][3:8].items(),key=lambda x: x[0], reverse=False) \n",
    "#converts to list and sort in descending order according to values\n",
    "\n",
    "#answer5[0] # prints the first item of the list"
   ]
  },
  {
   "cell_type": "code",
   "execution_count": 654,
   "id": "22ca7c76",
   "metadata": {},
   "outputs": [
    {
     "name": "stdout",
     "output_type": "stream",
     "text": [
      "Element Code    1.000000\n",
      "Y2014           0.024457\n",
      "Y2015           0.023889\n",
      "Y2016           0.023444\n",
      "Y2017           0.024254\n",
      "Y2018           0.024279\n",
      "Name: Element Code, dtype: float64\n",
      "least:-  0.02344399758496104\n"
     ]
    }
   ],
   "source": [
    "\"\"\"Which year had the least correlation with ‘Element Code’?\"\"\"\n",
    "dfd1 = food_data[['Element Code','Y2014', 'Y2015','Y2016', 'Y2017', 'Y2018']]\n",
    "\n",
    "dfd2 = dfd1.corr()            ### 2016\n",
    "dfd3 = dfd2['Element Code']\n",
    "print(dfd3)\n",
    "dfd4 = dfd3.min()\n",
    "print('least:- ',dfd4)\n",
    "\n",
    "# df2 = df1[df1['Area'] == 'Madagascar']"
   ]
  },
  {
   "cell_type": "code",
   "execution_count": 655,
   "id": "828bffb5",
   "metadata": {},
   "outputs": [
    {
     "data": {
      "text/plain": [
       "mean     140.917765\n",
       "std     1671.862359\n",
       "Name: Y2017, dtype: float64"
      ]
     },
     "execution_count": 655,
     "metadata": {},
     "output_type": "execute_result"
    }
   ],
   "source": [
    "\"\"\"What is the mean and standard deviation across the whole dataset \n",
    "for the year 2017 to 2 decimal places?\"\"\"  ###\n",
    "\n",
    "b1 = food_data.describe()\n",
    "b2 = b1['Y2017']\n",
    "b2.loc[['mean','std']]\n"
   ]
  },
  {
   "cell_type": "code",
   "execution_count": 656,
   "id": "25954365",
   "metadata": {},
   "outputs": [
    {
     "data": {
      "text/plain": [
       "('Guinea-Bissau', 19102.77)"
      ]
     },
     "execution_count": 656,
     "metadata": {},
     "output_type": "execute_result"
    }
   ],
   "source": [
    "import pandas as pd\n",
    "\"\"\"Select columns ‘Y2017’ and ‘Area’, Perform a groupby operation on ‘Area’.  \n",
    "Which of these Areas had the 7th lowest sum in 2017?\"\"\"\n",
    "#c1 = food_data[['Y2017','Area']]\n",
    "#c2 = c1.groupby('Area').sum()\n",
    "#c3 = sorted(c2.values.tolist(), key=lambda x: x[0], reverse=True)\n",
    "#c3[-7]\n",
    "\n",
    "#      OR\n",
    "lst3 = food_data.groupby('Area')['Y2017'].sum() # create table of areas & its highest sum in 2017\n",
    "answer3 = sorted(lst3.items(), key=lambda x: x[1], reverse=False)#converts it to list and sort it in ascending order\n",
    "answer3[6] #prints the 7th item in the list by indexm1 = food_data[['Y2017','Area']]\n",
    "\n"
   ]
  },
  {
   "cell_type": "code",
   "execution_count": 657,
   "id": "7430a8a8",
   "metadata": {},
   "outputs": [
    {
     "data": {
      "text/plain": [
       "('Nigeria', 1483268.23)"
      ]
     },
     "execution_count": 657,
     "metadata": {},
     "output_type": "execute_result"
    }
   ],
   "source": [
    "\"\"\"Select columns ‘Y2017’ and ‘Area’, Perform a groupby operation on ‘Area’. \n",
    " Which of these Areas had the highest sum in 2017? \"\"\"  ###\n",
    "\n",
    "\n",
    "lst2 = food_data.groupby('Area')['Y2017'].sum() # create table of areas & its highest sum in 2017\n",
    "\n",
    "answer2 = sorted(lst2.items(), key=lambda x: x[1], reverse=True) \n",
    "#converts it to list and sort it in descending order\n",
    "answer2[0] #prints the first item in the list"
   ]
  },
  {
   "cell_type": "code",
   "execution_count": 658,
   "id": "33b27e69",
   "metadata": {
    "scrolled": false
   },
   "outputs": [
    {
     "data": {
      "text/plain": [
       "173.05"
      ]
     },
     "execution_count": 658,
     "metadata": {},
     "output_type": "execute_result"
    }
   ],
   "source": [
    "dff1 = food_data.groupby( ['Area' , 'Element'] )['Y2015'].sum()\n",
    "dff2 = dff1.loc['Madagascar']\n",
    "dff3 = dff2.loc['Protein supply quantity (g/capita/day)']\n",
    "dff3"
   ]
  },
  {
   "cell_type": "code",
   "execution_count": 659,
   "id": "67cd2e97",
   "metadata": {},
   "outputs": [
    {
     "name": "stdout",
     "output_type": "stream",
     "text": [
      "Area       MadagascarMadagascarMadagascarMadagascarMadaga...\n",
      "Element    Protein supply quantity (g/capita/day)Protein ...\n",
      "Y2015                                                 173.05\n",
      "dtype: object\n"
     ]
    }
   ],
   "source": [
    "\"\"\" What is the total Protein supply quantity in Madagascar in 2015? \"\"\" \n",
    "df1 = food_data[['Area','Element','Y2015']] # subset our dataframe to the required 3 columns\n",
    "df2 = df1[df1['Area'] == 'Madagascar'] #subsets our dataframe to only madagascar area\n",
    "df3 = df2[df2['Element'] == 'Protein supply quantity (g/capita/day)'] #subsets to Protein supply quantity\n",
    "df4 = df3.sum() #sum total protein supply\n",
    "print(df4)"
   ]
  },
  {
   "cell_type": "code",
   "execution_count": 660,
   "id": "b30aaf37",
   "metadata": {},
   "outputs": [
    {
     "name": "stdout",
     "output_type": "stream",
     "text": [
      "percentage:-  2.6073544131401474\n",
      "Total number:-  1589\n"
     ]
    }
   ],
   "source": [
    " \"\"\"What is the total number and percentage of missing data in 2014 to 3 decimal places?\"\"\"\n",
    "    \n",
    "nul_2014 = food_data.isnull().sum()['Y2014']\n",
    "dataset_length = len(food_data)\n",
    "percentage = (nul_2014/dataset_length)*100\n",
    "\n",
    "print('percentage:- ',percentage)\n",
    "print('Total number:- ',nul_2014)"
   ]
  },
  {
   "cell_type": "code",
   "execution_count": 661,
   "id": "fcbf2606",
   "metadata": {},
   "outputs": [
    {
     "data": {
      "text/plain": [
       "292836.0"
      ]
     },
     "execution_count": 661,
     "metadata": {},
     "output_type": "execute_result"
    }
   ],
   "source": [
    "# Perform a groupby operation on ‘Element’.  What is the total number of the sum of Processing in 2017?\n",
    "#food_data.groupby('Element')['Y2017'].sum()\n",
    "food_data.groupby('Element').sum().at['Processing','Y2017']"
   ]
  },
  {
   "cell_type": "code",
   "execution_count": 662,
   "id": "afaa8102",
   "metadata": {},
   "outputs": [
    {
     "data": {
      "text/html": [
       "<div>\n",
       "<style scoped>\n",
       "    .dataframe tbody tr th:only-of-type {\n",
       "        vertical-align: middle;\n",
       "    }\n",
       "\n",
       "    .dataframe tbody tr th {\n",
       "        vertical-align: top;\n",
       "    }\n",
       "\n",
       "    .dataframe thead th {\n",
       "        text-align: right;\n",
       "    }\n",
       "</style>\n",
       "<table border=\"1\" class=\"dataframe\">\n",
       "  <thead>\n",
       "    <tr style=\"text-align: right;\">\n",
       "      <th></th>\n",
       "      <th>Area Code</th>\n",
       "      <th>Area</th>\n",
       "      <th>Item Code</th>\n",
       "      <th>Item</th>\n",
       "      <th>Element Code</th>\n",
       "      <th>Element</th>\n",
       "      <th>Unit</th>\n",
       "      <th>Y2014</th>\n",
       "      <th>Y2015</th>\n",
       "      <th>Y2016</th>\n",
       "      <th>Y2017</th>\n",
       "      <th>Y2018</th>\n",
       "    </tr>\n",
       "  </thead>\n",
       "  <tbody>\n",
       "    <tr>\n",
       "      <th>count</th>\n",
       "      <td>60943.000000</td>\n",
       "      <td>60943</td>\n",
       "      <td>60943.000000</td>\n",
       "      <td>60943</td>\n",
       "      <td>60943.000000</td>\n",
       "      <td>60943</td>\n",
       "      <td>60943</td>\n",
       "      <td>59354.000000</td>\n",
       "      <td>59395.000000</td>\n",
       "      <td>59408.000000</td>\n",
       "      <td>59437.000000</td>\n",
       "      <td>59507.000000</td>\n",
       "    </tr>\n",
       "    <tr>\n",
       "      <th>unique</th>\n",
       "      <td>NaN</td>\n",
       "      <td>49</td>\n",
       "      <td>NaN</td>\n",
       "      <td>119</td>\n",
       "      <td>NaN</td>\n",
       "      <td>18</td>\n",
       "      <td>5</td>\n",
       "      <td>NaN</td>\n",
       "      <td>NaN</td>\n",
       "      <td>NaN</td>\n",
       "      <td>NaN</td>\n",
       "      <td>NaN</td>\n",
       "    </tr>\n",
       "    <tr>\n",
       "      <th>top</th>\n",
       "      <td>NaN</td>\n",
       "      <td>Kenya</td>\n",
       "      <td>NaN</td>\n",
       "      <td>Milk - Excluding Butter</td>\n",
       "      <td>NaN</td>\n",
       "      <td>Domestic supply quantity</td>\n",
       "      <td>1000 tonnes</td>\n",
       "      <td>NaN</td>\n",
       "      <td>NaN</td>\n",
       "      <td>NaN</td>\n",
       "      <td>NaN</td>\n",
       "      <td>NaN</td>\n",
       "    </tr>\n",
       "    <tr>\n",
       "      <th>freq</th>\n",
       "      <td>NaN</td>\n",
       "      <td>1560</td>\n",
       "      <td>NaN</td>\n",
       "      <td>1262</td>\n",
       "      <td>NaN</td>\n",
       "      <td>5295</td>\n",
       "      <td>40933</td>\n",
       "      <td>NaN</td>\n",
       "      <td>NaN</td>\n",
       "      <td>NaN</td>\n",
       "      <td>NaN</td>\n",
       "      <td>NaN</td>\n",
       "    </tr>\n",
       "    <tr>\n",
       "      <th>mean</th>\n",
       "      <td>134.265576</td>\n",
       "      <td>NaN</td>\n",
       "      <td>2687.176706</td>\n",
       "      <td>NaN</td>\n",
       "      <td>3814.856456</td>\n",
       "      <td>NaN</td>\n",
       "      <td>NaN</td>\n",
       "      <td>134.196282</td>\n",
       "      <td>135.235966</td>\n",
       "      <td>136.555222</td>\n",
       "      <td>140.917765</td>\n",
       "      <td>143.758381</td>\n",
       "    </tr>\n",
       "    <tr>\n",
       "      <th>std</th>\n",
       "      <td>72.605709</td>\n",
       "      <td>NaN</td>\n",
       "      <td>146.055739</td>\n",
       "      <td>NaN</td>\n",
       "      <td>2212.007033</td>\n",
       "      <td>NaN</td>\n",
       "      <td>NaN</td>\n",
       "      <td>1567.663696</td>\n",
       "      <td>1603.403984</td>\n",
       "      <td>1640.007194</td>\n",
       "      <td>1671.862359</td>\n",
       "      <td>1710.782658</td>\n",
       "    </tr>\n",
       "    <tr>\n",
       "      <th>min</th>\n",
       "      <td>4.000000</td>\n",
       "      <td>NaN</td>\n",
       "      <td>2501.000000</td>\n",
       "      <td>NaN</td>\n",
       "      <td>511.000000</td>\n",
       "      <td>NaN</td>\n",
       "      <td>NaN</td>\n",
       "      <td>-1796.000000</td>\n",
       "      <td>-3161.000000</td>\n",
       "      <td>-3225.000000</td>\n",
       "      <td>-1582.000000</td>\n",
       "      <td>-3396.000000</td>\n",
       "    </tr>\n",
       "    <tr>\n",
       "      <th>25%</th>\n",
       "      <td>74.000000</td>\n",
       "      <td>NaN</td>\n",
       "      <td>2562.000000</td>\n",
       "      <td>NaN</td>\n",
       "      <td>684.000000</td>\n",
       "      <td>NaN</td>\n",
       "      <td>NaN</td>\n",
       "      <td>0.000000</td>\n",
       "      <td>0.000000</td>\n",
       "      <td>0.000000</td>\n",
       "      <td>0.000000</td>\n",
       "      <td>0.000000</td>\n",
       "    </tr>\n",
       "    <tr>\n",
       "      <th>50%</th>\n",
       "      <td>136.000000</td>\n",
       "      <td>NaN</td>\n",
       "      <td>2630.000000</td>\n",
       "      <td>NaN</td>\n",
       "      <td>5142.000000</td>\n",
       "      <td>NaN</td>\n",
       "      <td>NaN</td>\n",
       "      <td>0.090000</td>\n",
       "      <td>0.080000</td>\n",
       "      <td>0.080000</td>\n",
       "      <td>0.100000</td>\n",
       "      <td>0.070000</td>\n",
       "    </tr>\n",
       "    <tr>\n",
       "      <th>75%</th>\n",
       "      <td>195.000000</td>\n",
       "      <td>NaN</td>\n",
       "      <td>2775.000000</td>\n",
       "      <td>NaN</td>\n",
       "      <td>5511.000000</td>\n",
       "      <td>NaN</td>\n",
       "      <td>NaN</td>\n",
       "      <td>8.340000</td>\n",
       "      <td>8.460000</td>\n",
       "      <td>8.430000</td>\n",
       "      <td>9.000000</td>\n",
       "      <td>9.000000</td>\n",
       "    </tr>\n",
       "    <tr>\n",
       "      <th>max</th>\n",
       "      <td>276.000000</td>\n",
       "      <td>NaN</td>\n",
       "      <td>2961.000000</td>\n",
       "      <td>NaN</td>\n",
       "      <td>5911.000000</td>\n",
       "      <td>NaN</td>\n",
       "      <td>NaN</td>\n",
       "      <td>176405.000000</td>\n",
       "      <td>181137.000000</td>\n",
       "      <td>185960.000000</td>\n",
       "      <td>190873.000000</td>\n",
       "      <td>195875.000000</td>\n",
       "    </tr>\n",
       "  </tbody>\n",
       "</table>\n",
       "</div>"
      ],
      "text/plain": [
       "           Area Code   Area     Item Code                     Item  \\\n",
       "count   60943.000000  60943  60943.000000                    60943   \n",
       "unique           NaN     49           NaN                      119   \n",
       "top              NaN  Kenya           NaN  Milk - Excluding Butter   \n",
       "freq             NaN   1560           NaN                     1262   \n",
       "mean      134.265576    NaN   2687.176706                      NaN   \n",
       "std        72.605709    NaN    146.055739                      NaN   \n",
       "min         4.000000    NaN   2501.000000                      NaN   \n",
       "25%        74.000000    NaN   2562.000000                      NaN   \n",
       "50%       136.000000    NaN   2630.000000                      NaN   \n",
       "75%       195.000000    NaN   2775.000000                      NaN   \n",
       "max       276.000000    NaN   2961.000000                      NaN   \n",
       "\n",
       "        Element Code                   Element         Unit          Y2014  \\\n",
       "count   60943.000000                     60943        60943   59354.000000   \n",
       "unique           NaN                        18            5            NaN   \n",
       "top              NaN  Domestic supply quantity  1000 tonnes            NaN   \n",
       "freq             NaN                      5295        40933            NaN   \n",
       "mean     3814.856456                       NaN          NaN     134.196282   \n",
       "std      2212.007033                       NaN          NaN    1567.663696   \n",
       "min       511.000000                       NaN          NaN   -1796.000000   \n",
       "25%       684.000000                       NaN          NaN       0.000000   \n",
       "50%      5142.000000                       NaN          NaN       0.090000   \n",
       "75%      5511.000000                       NaN          NaN       8.340000   \n",
       "max      5911.000000                       NaN          NaN  176405.000000   \n",
       "\n",
       "                Y2015          Y2016          Y2017          Y2018  \n",
       "count    59395.000000   59408.000000   59437.000000   59507.000000  \n",
       "unique            NaN            NaN            NaN            NaN  \n",
       "top               NaN            NaN            NaN            NaN  \n",
       "freq              NaN            NaN            NaN            NaN  \n",
       "mean       135.235966     136.555222     140.917765     143.758381  \n",
       "std       1603.403984    1640.007194    1671.862359    1710.782658  \n",
       "min      -3161.000000   -3225.000000   -1582.000000   -3396.000000  \n",
       "25%          0.000000       0.000000       0.000000       0.000000  \n",
       "50%          0.080000       0.080000       0.100000       0.070000  \n",
       "75%          8.460000       8.430000       9.000000       9.000000  \n",
       "max     181137.000000  185960.000000  190873.000000  195875.000000  "
      ]
     },
     "execution_count": 662,
     "metadata": {},
     "output_type": "execute_result"
    }
   ],
   "source": [
    "food_data = pd.read_csv(\"food_data.csv\", encoding = \"latin-1\")\n",
    "food_data.describe(include='all')"
   ]
  },
  {
   "cell_type": "code",
   "execution_count": 663,
   "id": "c49ae8be",
   "metadata": {},
   "outputs": [],
   "source": [
    "import pandas as pd\n"
   ]
  }
 ],
 "metadata": {
  "kernelspec": {
   "display_name": "Python 3 (ipykernel)",
   "language": "python",
   "name": "python3"
  },
  "language_info": {
   "codemirror_mode": {
    "name": "ipython",
    "version": 3
   },
   "file_extension": ".py",
   "mimetype": "text/x-python",
   "name": "python",
   "nbconvert_exporter": "python",
   "pygments_lexer": "ipython3",
   "version": "3.9.15"
  }
 },
 "nbformat": 4,
 "nbformat_minor": 5
}
